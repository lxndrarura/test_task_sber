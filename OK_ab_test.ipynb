{
 "cells": [
  {
   "cell_type": "markdown",
   "id": "1c8fe043",
   "metadata": {},
   "source": [
    "# Типичный А/В тест продуктового аналитика:\n",
    "\n",
    "На сайте запущен А/В тест с целью увеличить доход. В приложенном excel файле ты найдешь сырые данные по результатам эксперимента (user_id), тип выборки (variant_name) и доход, принесенный пользователем (revenue).\n",
    "Проанализируй результаты эксперимента и напиши свои рекомендации менеджеру.\n",
    "(приложи скрипт с помощью которого анализировал данные, желательно файл .ipynb на python)\n",
    "\n",
    "\n",
    "<b>Гипотеза:</b> нововведение в тестовой группе увеличит доход. \n",
    "\n",
    "Описание данных: \n",
    "- user_id - id пользователя \n",
    "- variant_name - тип выборки \n",
    "- revenue - доход от пользователя \n",
    "\n",
    "Группы: variant - с изменением, control - без изменения \n",
    "\n",
    "\n",
    "<b>Ключевые метрики: </b>\n",
    "- <b>ARPU</b> = доход / уникальные юзеры (Посмотрим увеличился ли доход с пользователя в целом)\n",
    "\n",
    "<b>Вспомогательные метрики</b>\n",
    "- <b>ARPPU</b> = доход / покупающие уникальные юзеры (Посмотрим стали ли пользователи больше покупать)\n",
    "- <b>CR в уникальный заказ</b> = покупающие уникальные юзеры / уникальные юзеры (Посмотрим привлекли ли мы новую аудиторию к покупкам)\n",
    "- Было бы еще неплохо посмотреть на частоту покупок на одного пользователя, но у нас нет идентификатора заказа в датасете\n"
   ]
  },
  {
   "cell_type": "code",
   "execution_count": 360,
   "id": "11b3a8ef",
   "metadata": {},
   "outputs": [],
   "source": [
    "import pandas as pd\n"
   ]
  },
  {
   "cell_type": "markdown",
   "id": "5bfbb2e8",
   "metadata": {},
   "source": [
    "## Предобработка данных \n",
    "\n",
    "Проверим таблицу на: \n",
    "- Пропуски \n",
    "- Тип данных \n",
    "- Дубликаты"
   ]
  },
  {
   "cell_type": "code",
   "execution_count": 361,
   "id": "3e8bf698",
   "metadata": {},
   "outputs": [
    {
     "data": {
      "text/html": [
       "<div>\n",
       "<style scoped>\n",
       "    .dataframe tbody tr th:only-of-type {\n",
       "        vertical-align: middle;\n",
       "    }\n",
       "\n",
       "    .dataframe tbody tr th {\n",
       "        vertical-align: top;\n",
       "    }\n",
       "\n",
       "    .dataframe thead th {\n",
       "        text-align: right;\n",
       "    }\n",
       "</style>\n",
       "<table border=\"1\" class=\"dataframe\">\n",
       "  <thead>\n",
       "    <tr style=\"text-align: right;\">\n",
       "      <th></th>\n",
       "      <th>user_id</th>\n",
       "      <th>var</th>\n",
       "      <th>revenue</th>\n",
       "    </tr>\n",
       "  </thead>\n",
       "  <tbody>\n",
       "    <tr>\n",
       "      <th>2406</th>\n",
       "      <td>2</td>\n",
       "      <td>control</td>\n",
       "      <td>0,00</td>\n",
       "    </tr>\n",
       "    <tr>\n",
       "      <th>3479</th>\n",
       "      <td>2</td>\n",
       "      <td>control</td>\n",
       "      <td>0,00</td>\n",
       "    </tr>\n",
       "    <tr>\n",
       "      <th>7076</th>\n",
       "      <td>2</td>\n",
       "      <td>control</td>\n",
       "      <td>0,00</td>\n",
       "    </tr>\n",
       "    <tr>\n",
       "      <th>7409</th>\n",
       "      <td>3</td>\n",
       "      <td>variant</td>\n",
       "      <td>0,00</td>\n",
       "    </tr>\n",
       "    <tr>\n",
       "      <th>4145</th>\n",
       "      <td>3</td>\n",
       "      <td>variant</td>\n",
       "      <td>0,00</td>\n",
       "    </tr>\n",
       "    <tr>\n",
       "      <th>5377</th>\n",
       "      <td>3</td>\n",
       "      <td>control</td>\n",
       "      <td>0,00</td>\n",
       "    </tr>\n",
       "    <tr>\n",
       "      <th>9077</th>\n",
       "      <td>4</td>\n",
       "      <td>variant</td>\n",
       "      <td>0,00</td>\n",
       "    </tr>\n",
       "    <tr>\n",
       "      <th>9155</th>\n",
       "      <td>5</td>\n",
       "      <td>variant</td>\n",
       "      <td>0,00</td>\n",
       "    </tr>\n",
       "    <tr>\n",
       "      <th>7720</th>\n",
       "      <td>6</td>\n",
       "      <td>variant</td>\n",
       "      <td>0,00</td>\n",
       "    </tr>\n",
       "    <tr>\n",
       "      <th>3920</th>\n",
       "      <td>9</td>\n",
       "      <td>variant</td>\n",
       "      <td>0,00</td>\n",
       "    </tr>\n",
       "    <tr>\n",
       "      <th>5545</th>\n",
       "      <td>10</td>\n",
       "      <td>control</td>\n",
       "      <td>0,00</td>\n",
       "    </tr>\n",
       "    <tr>\n",
       "      <th>4612</th>\n",
       "      <td>10</td>\n",
       "      <td>variant</td>\n",
       "      <td>0,00</td>\n",
       "    </tr>\n",
       "    <tr>\n",
       "      <th>3889</th>\n",
       "      <td>11</td>\n",
       "      <td>control</td>\n",
       "      <td>0,00</td>\n",
       "    </tr>\n",
       "    <tr>\n",
       "      <th>8223</th>\n",
       "      <td>11</td>\n",
       "      <td>control</td>\n",
       "      <td>0,00</td>\n",
       "    </tr>\n",
       "    <tr>\n",
       "      <th>9661</th>\n",
       "      <td>12</td>\n",
       "      <td>control</td>\n",
       "      <td>0,00</td>\n",
       "    </tr>\n",
       "    <tr>\n",
       "      <th>1156</th>\n",
       "      <td>13</td>\n",
       "      <td>control</td>\n",
       "      <td>0,00</td>\n",
       "    </tr>\n",
       "    <tr>\n",
       "      <th>6168</th>\n",
       "      <td>13</td>\n",
       "      <td>control</td>\n",
       "      <td>0,00</td>\n",
       "    </tr>\n",
       "    <tr>\n",
       "      <th>458</th>\n",
       "      <td>15</td>\n",
       "      <td>variant</td>\n",
       "      <td>0,00</td>\n",
       "    </tr>\n",
       "    <tr>\n",
       "      <th>5762</th>\n",
       "      <td>15</td>\n",
       "      <td>variant</td>\n",
       "      <td>0,00</td>\n",
       "    </tr>\n",
       "    <tr>\n",
       "      <th>8448</th>\n",
       "      <td>18</td>\n",
       "      <td>control</td>\n",
       "      <td>0,00</td>\n",
       "    </tr>\n",
       "  </tbody>\n",
       "</table>\n",
       "</div>"
      ],
      "text/plain": [
       "      user_id      var revenue\n",
       "2406        2  control    0,00\n",
       "3479        2  control    0,00\n",
       "7076        2  control    0,00\n",
       "7409        3  variant    0,00\n",
       "4145        3  variant    0,00\n",
       "5377        3  control    0,00\n",
       "9077        4  variant    0,00\n",
       "9155        5  variant    0,00\n",
       "7720        6  variant    0,00\n",
       "3920        9  variant    0,00\n",
       "5545       10  control    0,00\n",
       "4612       10  variant    0,00\n",
       "3889       11  control    0,00\n",
       "8223       11  control    0,00\n",
       "9661       12  control    0,00\n",
       "1156       13  control    0,00\n",
       "6168       13  control    0,00\n",
       "458        15  variant    0,00\n",
       "5762       15  variant    0,00\n",
       "8448       18  control    0,00"
      ]
     },
     "metadata": {},
     "output_type": "display_data"
    },
    {
     "name": "stdout",
     "output_type": "stream",
     "text": [
      "<class 'pandas.core.frame.DataFrame'>\n",
      "RangeIndex: 10000 entries, 0 to 9999\n",
      "Data columns (total 3 columns):\n",
      " #   Column   Non-Null Count  Dtype \n",
      "---  ------   --------------  ----- \n",
      " 0   user_id  10000 non-null  int64 \n",
      " 1   var      10000 non-null  object\n",
      " 2   revenue  10000 non-null  object\n",
      "dtypes: int64(1), object(2)\n",
      "memory usage: 234.5+ KB\n"
     ]
    },
    {
     "data": {
      "text/plain": [
       "None"
      ]
     },
     "metadata": {},
     "output_type": "display_data"
    },
    {
     "name": "stdout",
     "output_type": "stream",
     "text": [
      "Уникальные id пользователей\n"
     ]
    },
    {
     "data": {
      "text/plain": [
       "array([ 737, 2423, 9411, ...,  502, 7741, 9468])"
      ]
     },
     "metadata": {},
     "output_type": "display_data"
    },
    {
     "name": "stdout",
     "output_type": "stream",
     "text": [
      "Уникальные варианты\n"
     ]
    },
    {
     "data": {
      "text/plain": [
       "array(['variant', 'control'], dtype=object)"
      ]
     },
     "metadata": {},
     "output_type": "display_data"
    },
    {
     "name": "stdout",
     "output_type": "stream",
     "text": [
      "Уникальные доходы\n"
     ]
    },
    {
     "data": {
      "text/plain": [
       "array(['0,00', '2,15', '3,25', '4,27', '1,75', '2,99', '9,91', '1,26',\n",
       "       '10,63', '17,05', '2,17', '1,25', '5,45', '4,87', '3,75', '17,87',\n",
       "       '196,01', '11,98', '0,50', '1,56', '1,51', '3,99', '1,50', '3,98',\n",
       "       '1,36', '3,24', '0,04', '23,04', '2,01', '1,00', '8,70', '10,82',\n",
       "       '4,95', '1,01', '2,72', '0,02', '0,58', '2,00', '17,08', '2,27',\n",
       "       '2,14', '8,66', '2,19', '14,24', '1,52', '0,86', '1,77', '0,60',\n",
       "       '2,02', '2,70', '5,08', '4,33', '12,99', '2,16', '3,28', '3,97',\n",
       "       '1,29', '5,02', '19,47', '18,56', '2,50', '3,00', '6,46', '3,83',\n",
       "       '2,22', '3,79', '20,07', '58,63', '4,52', '9,99', '2,34', '2,95',\n",
       "       '3,58', '0,84', '1,92', '10,67', '7,27', '7,58', '2,60', '0,90',\n",
       "       '57,46', '6,35', '4,98', '29,32', '1,30', '5,98', '0,06', '1,99',\n",
       "       '2,52', '1,23', '14,07', '25,98', '2,24', '4,37', '1,66', '41,53',\n",
       "       '1,78', '0,23', '2,93', '14,17', '2,92'], dtype=object)"
      ]
     },
     "metadata": {},
     "output_type": "display_data"
    },
    {
     "name": "stdout",
     "output_type": "stream",
     "text": [
      "\n",
      "Юзеры, у которых есть и тестовая и контрольная версии\n"
     ]
    },
    {
     "data": {
      "text/html": [
       "<div>\n",
       "<style scoped>\n",
       "    .dataframe tbody tr th:only-of-type {\n",
       "        vertical-align: middle;\n",
       "    }\n",
       "\n",
       "    .dataframe tbody tr th {\n",
       "        vertical-align: top;\n",
       "    }\n",
       "\n",
       "    .dataframe thead th {\n",
       "        text-align: right;\n",
       "    }\n",
       "</style>\n",
       "<table border=\"1\" class=\"dataframe\">\n",
       "  <thead>\n",
       "    <tr style=\"text-align: right;\">\n",
       "      <th></th>\n",
       "      <th>user_id</th>\n",
       "      <th>unique_vars_cnt</th>\n",
       "    </tr>\n",
       "  </thead>\n",
       "  <tbody>\n",
       "    <tr>\n",
       "      <th>1</th>\n",
       "      <td>3</td>\n",
       "      <td>2</td>\n",
       "    </tr>\n",
       "    <tr>\n",
       "      <th>6</th>\n",
       "      <td>10</td>\n",
       "      <td>2</td>\n",
       "    </tr>\n",
       "    <tr>\n",
       "      <th>11</th>\n",
       "      <td>18</td>\n",
       "      <td>2</td>\n",
       "    </tr>\n",
       "    <tr>\n",
       "      <th>15</th>\n",
       "      <td>25</td>\n",
       "      <td>2</td>\n",
       "    </tr>\n",
       "    <tr>\n",
       "      <th>23</th>\n",
       "      <td>40</td>\n",
       "      <td>2</td>\n",
       "    </tr>\n",
       "    <tr>\n",
       "      <th>...</th>\n",
       "      <td>...</td>\n",
       "      <td>...</td>\n",
       "    </tr>\n",
       "    <tr>\n",
       "      <th>6310</th>\n",
       "      <td>9978</td>\n",
       "      <td>2</td>\n",
       "    </tr>\n",
       "    <tr>\n",
       "      <th>6311</th>\n",
       "      <td>9979</td>\n",
       "      <td>2</td>\n",
       "    </tr>\n",
       "    <tr>\n",
       "      <th>6313</th>\n",
       "      <td>9982</td>\n",
       "      <td>2</td>\n",
       "    </tr>\n",
       "    <tr>\n",
       "      <th>6321</th>\n",
       "      <td>9996</td>\n",
       "      <td>2</td>\n",
       "    </tr>\n",
       "    <tr>\n",
       "      <th>6323</th>\n",
       "      <td>10000</td>\n",
       "      <td>2</td>\n",
       "    </tr>\n",
       "  </tbody>\n",
       "</table>\n",
       "<p>1541 rows × 2 columns</p>\n",
       "</div>"
      ],
      "text/plain": [
       "      user_id  unique_vars_cnt\n",
       "1           3                2\n",
       "6          10                2\n",
       "11         18                2\n",
       "15         25                2\n",
       "23         40                2\n",
       "...       ...              ...\n",
       "6310     9978                2\n",
       "6311     9979                2\n",
       "6313     9982                2\n",
       "6321     9996                2\n",
       "6323    10000                2\n",
       "\n",
       "[1541 rows x 2 columns]"
      ]
     },
     "metadata": {},
     "output_type": "display_data"
    }
   ],
   "source": [
    "# -- AB_Test_Results\n",
    "\n",
    "df = pd.read_csv('AB_Test_Results.csv')\n",
    "df.columns = ['user_id', 'var', 'revenue']\n",
    "display(df.sort_values('user_id').head(20))\n",
    "display(df.info())\n",
    "print('Уникальные id пользователей')\n",
    "display(df['user_id'].unique())\n",
    "print('Уникальные варианты')\n",
    "display(df['var'].unique())\n",
    "print('Уникальные доходы')\n",
    "display(df['revenue'].unique())\n",
    "\n",
    "print()\n",
    "print('Юзеры, у которых есть и тестовая и контрольная версии')\n",
    "user_groupped = df.groupby('user_id')['var'].nunique().reset_index().rename(columns = {'var': 'unique_vars_cnt'})\n",
    "users_for_remove = user_groupped[user_groupped['unique_vars_cnt']>=2]\n",
    "display(users_for_remove)\n",
    "\n",
    "\n"
   ]
  },
  {
   "cell_type": "markdown",
   "id": "be1842f4",
   "metadata": {},
   "source": [
    "1. Видим, что revenue в текстовом формате. Заменим запятую на точку и переведем во float. \n",
    "2. Пропущенных значений нет. \n",
    "3. Есть дубликаты user_id - у 1541 пользователей есть и тестовая и контрольная группа. Придется избавиться от этих пользователей, так как мы не знаем какая группа могла оказат влияние на пользователя. Такое может происходить из-за ошибок в распределении данных по вариантам аб теста или если пользователь каким-либо образом вручную изменил вариант отображения, возможно, это были коллеги когда тестировали функционал на бою или боты. \n",
    "\n",
    "\n",
    "\n"
   ]
  },
  {
   "cell_type": "code",
   "execution_count": 362,
   "id": "3aa138ff",
   "metadata": {},
   "outputs": [
    {
     "data": {
      "text/html": [
       "<div>\n",
       "<style scoped>\n",
       "    .dataframe tbody tr th:only-of-type {\n",
       "        vertical-align: middle;\n",
       "    }\n",
       "\n",
       "    .dataframe tbody tr th {\n",
       "        vertical-align: top;\n",
       "    }\n",
       "\n",
       "    .dataframe thead th {\n",
       "        text-align: right;\n",
       "    }\n",
       "</style>\n",
       "<table border=\"1\" class=\"dataframe\">\n",
       "  <thead>\n",
       "    <tr style=\"text-align: right;\">\n",
       "      <th></th>\n",
       "      <th>user_id</th>\n",
       "      <th>var</th>\n",
       "      <th>revenue</th>\n",
       "    </tr>\n",
       "  </thead>\n",
       "  <tbody>\n",
       "    <tr>\n",
       "      <th>0</th>\n",
       "      <td>737</td>\n",
       "      <td>variant</td>\n",
       "      <td>0,00</td>\n",
       "    </tr>\n",
       "    <tr>\n",
       "      <th>4</th>\n",
       "      <td>6174</td>\n",
       "      <td>variant</td>\n",
       "      <td>0,00</td>\n",
       "    </tr>\n",
       "    <tr>\n",
       "      <th>5</th>\n",
       "      <td>2380</td>\n",
       "      <td>variant</td>\n",
       "      <td>0,00</td>\n",
       "    </tr>\n",
       "    <tr>\n",
       "      <th>7</th>\n",
       "      <td>9168</td>\n",
       "      <td>control</td>\n",
       "      <td>0,00</td>\n",
       "    </tr>\n",
       "    <tr>\n",
       "      <th>9</th>\n",
       "      <td>7548</td>\n",
       "      <td>control</td>\n",
       "      <td>0,00</td>\n",
       "    </tr>\n",
       "    <tr>\n",
       "      <th>...</th>\n",
       "      <td>...</td>\n",
       "      <td>...</td>\n",
       "      <td>...</td>\n",
       "    </tr>\n",
       "    <tr>\n",
       "      <th>9993</th>\n",
       "      <td>2400</td>\n",
       "      <td>variant</td>\n",
       "      <td>0,00</td>\n",
       "    </tr>\n",
       "    <tr>\n",
       "      <th>9994</th>\n",
       "      <td>3129</td>\n",
       "      <td>control</td>\n",
       "      <td>0,00</td>\n",
       "    </tr>\n",
       "    <tr>\n",
       "      <th>9996</th>\n",
       "      <td>502</td>\n",
       "      <td>variant</td>\n",
       "      <td>0,00</td>\n",
       "    </tr>\n",
       "    <tr>\n",
       "      <th>9998</th>\n",
       "      <td>7741</td>\n",
       "      <td>control</td>\n",
       "      <td>0,00</td>\n",
       "    </tr>\n",
       "    <tr>\n",
       "      <th>9999</th>\n",
       "      <td>9468</td>\n",
       "      <td>control</td>\n",
       "      <td>0,00</td>\n",
       "    </tr>\n",
       "  </tbody>\n",
       "</table>\n",
       "<p>6070 rows × 3 columns</p>\n",
       "</div>"
      ],
      "text/plain": [
       "      user_id      var revenue\n",
       "0         737  variant    0,00\n",
       "4        6174  variant    0,00\n",
       "5        2380  variant    0,00\n",
       "7        9168  control    0,00\n",
       "9        7548  control    0,00\n",
       "...       ...      ...     ...\n",
       "9993     2400  variant    0,00\n",
       "9994     3129  control    0,00\n",
       "9996      502  variant    0,00\n",
       "9998     7741  control    0,00\n",
       "9999     9468  control    0,00\n",
       "\n",
       "[6070 rows x 3 columns]"
      ]
     },
     "execution_count": 362,
     "metadata": {},
     "output_type": "execute_result"
    }
   ],
   "source": [
    "# избавимся от лишних юзеров\n",
    "df = df[~df['user_id'].isin(users_for_remove['user_id'])]\n",
    "df\n",
    "\n"
   ]
  },
  {
   "cell_type": "code",
   "execution_count": 363,
   "id": "71a2a33e",
   "metadata": {},
   "outputs": [
    {
     "name": "stdout",
     "output_type": "stream",
     "text": [
      "<class 'pandas.core.frame.DataFrame'>\n",
      "Int64Index: 6070 entries, 0 to 9999\n",
      "Data columns (total 3 columns):\n",
      " #   Column   Non-Null Count  Dtype  \n",
      "---  ------   --------------  -----  \n",
      " 0   user_id  6070 non-null   int64  \n",
      " 1   var      6070 non-null   object \n",
      " 2   revenue  6070 non-null   float64\n",
      "dtypes: float64(1), int64(1), object(1)\n",
      "memory usage: 189.7+ KB\n"
     ]
    },
    {
     "data": {
      "text/plain": [
       "None"
      ]
     },
     "metadata": {},
     "output_type": "display_data"
    },
    {
     "data": {
      "text/html": [
       "<div>\n",
       "<style scoped>\n",
       "    .dataframe tbody tr th:only-of-type {\n",
       "        vertical-align: middle;\n",
       "    }\n",
       "\n",
       "    .dataframe tbody tr th {\n",
       "        vertical-align: top;\n",
       "    }\n",
       "\n",
       "    .dataframe thead th {\n",
       "        text-align: right;\n",
       "    }\n",
       "</style>\n",
       "<table border=\"1\" class=\"dataframe\">\n",
       "  <thead>\n",
       "    <tr style=\"text-align: right;\">\n",
       "      <th></th>\n",
       "      <th>user_id</th>\n",
       "      <th>var</th>\n",
       "      <th>revenue</th>\n",
       "    </tr>\n",
       "  </thead>\n",
       "  <tbody>\n",
       "    <tr>\n",
       "      <th>0</th>\n",
       "      <td>737</td>\n",
       "      <td>variant</td>\n",
       "      <td>0.0</td>\n",
       "    </tr>\n",
       "    <tr>\n",
       "      <th>4</th>\n",
       "      <td>6174</td>\n",
       "      <td>variant</td>\n",
       "      <td>0.0</td>\n",
       "    </tr>\n",
       "    <tr>\n",
       "      <th>5</th>\n",
       "      <td>2380</td>\n",
       "      <td>variant</td>\n",
       "      <td>0.0</td>\n",
       "    </tr>\n",
       "    <tr>\n",
       "      <th>7</th>\n",
       "      <td>9168</td>\n",
       "      <td>control</td>\n",
       "      <td>0.0</td>\n",
       "    </tr>\n",
       "    <tr>\n",
       "      <th>9</th>\n",
       "      <td>7548</td>\n",
       "      <td>control</td>\n",
       "      <td>0.0</td>\n",
       "    </tr>\n",
       "    <tr>\n",
       "      <th>...</th>\n",
       "      <td>...</td>\n",
       "      <td>...</td>\n",
       "      <td>...</td>\n",
       "    </tr>\n",
       "    <tr>\n",
       "      <th>9993</th>\n",
       "      <td>2400</td>\n",
       "      <td>variant</td>\n",
       "      <td>0.0</td>\n",
       "    </tr>\n",
       "    <tr>\n",
       "      <th>9994</th>\n",
       "      <td>3129</td>\n",
       "      <td>control</td>\n",
       "      <td>0.0</td>\n",
       "    </tr>\n",
       "    <tr>\n",
       "      <th>9996</th>\n",
       "      <td>502</td>\n",
       "      <td>variant</td>\n",
       "      <td>0.0</td>\n",
       "    </tr>\n",
       "    <tr>\n",
       "      <th>9998</th>\n",
       "      <td>7741</td>\n",
       "      <td>control</td>\n",
       "      <td>0.0</td>\n",
       "    </tr>\n",
       "    <tr>\n",
       "      <th>9999</th>\n",
       "      <td>9468</td>\n",
       "      <td>control</td>\n",
       "      <td>0.0</td>\n",
       "    </tr>\n",
       "  </tbody>\n",
       "</table>\n",
       "<p>6070 rows × 3 columns</p>\n",
       "</div>"
      ],
      "text/plain": [
       "      user_id      var  revenue\n",
       "0         737  variant      0.0\n",
       "4        6174  variant      0.0\n",
       "5        2380  variant      0.0\n",
       "7        9168  control      0.0\n",
       "9        7548  control      0.0\n",
       "...       ...      ...      ...\n",
       "9993     2400  variant      0.0\n",
       "9994     3129  control      0.0\n",
       "9996      502  variant      0.0\n",
       "9998     7741  control      0.0\n",
       "9999     9468  control      0.0\n",
       "\n",
       "[6070 rows x 3 columns]"
      ]
     },
     "metadata": {},
     "output_type": "display_data"
    }
   ],
   "source": [
    "# переведем revenue в float \n",
    "df['revenue'] = df['revenue'].apply(lambda x: x.replace(',', '.'))\n",
    "df['revenue'] = df['revenue'].apply(lambda x: float(x))\n",
    "display(df.info())\n",
    "display(df)\n"
   ]
  },
  {
   "cell_type": "code",
   "execution_count": 364,
   "id": "a9cc9da8",
   "metadata": {},
   "outputs": [
    {
     "data": {
      "text/html": [
       "<div>\n",
       "<style scoped>\n",
       "    .dataframe tbody tr th:only-of-type {\n",
       "        vertical-align: middle;\n",
       "    }\n",
       "\n",
       "    .dataframe tbody tr th {\n",
       "        vertical-align: top;\n",
       "    }\n",
       "\n",
       "    .dataframe thead th {\n",
       "        text-align: right;\n",
       "    }\n",
       "</style>\n",
       "<table border=\"1\" class=\"dataframe\">\n",
       "  <thead>\n",
       "    <tr style=\"text-align: right;\">\n",
       "      <th></th>\n",
       "      <th>user_id</th>\n",
       "      <th>var</th>\n",
       "      <th>revenue</th>\n",
       "    </tr>\n",
       "  </thead>\n",
       "  <tbody>\n",
       "    <tr>\n",
       "      <th>0</th>\n",
       "      <td>2</td>\n",
       "      <td>control</td>\n",
       "      <td>0.0</td>\n",
       "    </tr>\n",
       "    <tr>\n",
       "      <th>1</th>\n",
       "      <td>4</td>\n",
       "      <td>variant</td>\n",
       "      <td>0.0</td>\n",
       "    </tr>\n",
       "    <tr>\n",
       "      <th>2</th>\n",
       "      <td>5</td>\n",
       "      <td>variant</td>\n",
       "      <td>0.0</td>\n",
       "    </tr>\n",
       "    <tr>\n",
       "      <th>3</th>\n",
       "      <td>6</td>\n",
       "      <td>variant</td>\n",
       "      <td>0.0</td>\n",
       "    </tr>\n",
       "    <tr>\n",
       "      <th>4</th>\n",
       "      <td>9</td>\n",
       "      <td>variant</td>\n",
       "      <td>0.0</td>\n",
       "    </tr>\n",
       "    <tr>\n",
       "      <th>...</th>\n",
       "      <td>...</td>\n",
       "      <td>...</td>\n",
       "      <td>...</td>\n",
       "    </tr>\n",
       "    <tr>\n",
       "      <th>4778</th>\n",
       "      <td>9990</td>\n",
       "      <td>variant</td>\n",
       "      <td>0.0</td>\n",
       "    </tr>\n",
       "    <tr>\n",
       "      <th>4779</th>\n",
       "      <td>9992</td>\n",
       "      <td>control</td>\n",
       "      <td>0.0</td>\n",
       "    </tr>\n",
       "    <tr>\n",
       "      <th>4780</th>\n",
       "      <td>9993</td>\n",
       "      <td>control</td>\n",
       "      <td>0.0</td>\n",
       "    </tr>\n",
       "    <tr>\n",
       "      <th>4781</th>\n",
       "      <td>9995</td>\n",
       "      <td>variant</td>\n",
       "      <td>0.0</td>\n",
       "    </tr>\n",
       "    <tr>\n",
       "      <th>4782</th>\n",
       "      <td>9998</td>\n",
       "      <td>control</td>\n",
       "      <td>0.0</td>\n",
       "    </tr>\n",
       "  </tbody>\n",
       "</table>\n",
       "<p>4783 rows × 3 columns</p>\n",
       "</div>"
      ],
      "text/plain": [
       "      user_id      var  revenue\n",
       "0           2  control      0.0\n",
       "1           4  variant      0.0\n",
       "2           5  variant      0.0\n",
       "3           6  variant      0.0\n",
       "4           9  variant      0.0\n",
       "...       ...      ...      ...\n",
       "4778     9990  variant      0.0\n",
       "4779     9992  control      0.0\n",
       "4780     9993  control      0.0\n",
       "4781     9995  variant      0.0\n",
       "4782     9998  control      0.0\n",
       "\n",
       "[4783 rows x 3 columns]"
      ]
     },
     "metadata": {},
     "output_type": "display_data"
    }
   ],
   "source": [
    "# проагреггируем доход по каждому пользователю\n",
    "df = df.groupby(['user_id', 'var'])['revenue'].sum().reset_index()\n",
    "display(df)\n",
    "\n"
   ]
  },
  {
   "cell_type": "markdown",
   "id": "bf24dd53",
   "metadata": {},
   "source": [
    "Итоговая таблица готова. \n",
    "\n",
    "Теперь можно считать метрики. "
   ]
  },
  {
   "cell_type": "markdown",
   "id": "18347ddf",
   "metadata": {},
   "source": [
    "## Подсчет показателей\n",
    "\n",
    "Сначла посчитаем абсолютные показатели: \n",
    "- users - пользователи \n",
    "- %GT - распределение по вариантам \n",
    "- paying_users - платящие пользователи \n",
    "- revenue - доход"
   ]
  },
  {
   "cell_type": "code",
   "execution_count": 365,
   "id": "d643f610",
   "metadata": {},
   "outputs": [
    {
     "data": {
      "text/html": [
       "<div>\n",
       "<style scoped>\n",
       "    .dataframe tbody tr th:only-of-type {\n",
       "        vertical-align: middle;\n",
       "    }\n",
       "\n",
       "    .dataframe tbody tr th {\n",
       "        vertical-align: top;\n",
       "    }\n",
       "\n",
       "    .dataframe thead th {\n",
       "        text-align: right;\n",
       "    }\n",
       "</style>\n",
       "<table border=\"1\" class=\"dataframe\">\n",
       "  <thead>\n",
       "    <tr style=\"text-align: right;\">\n",
       "      <th></th>\n",
       "      <th>var</th>\n",
       "      <th>users</th>\n",
       "      <th>%GT</th>\n",
       "      <th>paying_users</th>\n",
       "      <th>revenue</th>\n",
       "    </tr>\n",
       "  </thead>\n",
       "  <tbody>\n",
       "    <tr>\n",
       "      <th>0</th>\n",
       "      <td>control</td>\n",
       "      <td>2390</td>\n",
       "      <td>49.968639</td>\n",
       "      <td>54</td>\n",
       "      <td>470.56</td>\n",
       "    </tr>\n",
       "    <tr>\n",
       "      <th>1</th>\n",
       "      <td>variant</td>\n",
       "      <td>2393</td>\n",
       "      <td>50.031361</td>\n",
       "      <td>42</td>\n",
       "      <td>179.32</td>\n",
       "    </tr>\n",
       "  </tbody>\n",
       "</table>\n",
       "</div>"
      ],
      "text/plain": [
       "       var  users        %GT  paying_users  revenue\n",
       "0  control   2390  49.968639            54   470.56\n",
       "1  variant   2393  50.031361            42   179.32"
      ]
     },
     "execution_count": 365,
     "metadata": {},
     "output_type": "execute_result"
    }
   ],
   "source": [
    "# количество юзеров\n",
    "res = df.groupby(['var']).agg({\n",
    "    'user_id': 'nunique'\n",
    "}).reset_index().rename(columns = {'user_id':'users'})\n",
    "\n",
    "# распредение по группам \n",
    "res['%GT'] = (res['users']/res['users'].sum())*100\n",
    "\n",
    "# Количество пользователей с покупкой\n",
    "order_users =  df[df['revenue']>0].groupby('var')['user_id'].nunique().reset_index().rename(columns = {'user_id': 'paying_users'})\n",
    "res = res.merge(order_users, on = 'var', how='inner')\n",
    "\n",
    "# Доход \n",
    "revenue = df.groupby('var')['revenue'].sum().reset_index()\n",
    "res = res.merge(revenue, on= 'var', how = 'inner')\n",
    "\n",
    "\n",
    "\n",
    "res\n",
    "\n",
    "\n"
   ]
  },
  {
   "cell_type": "markdown",
   "id": "eaf4b448",
   "metadata": {},
   "source": [
    "Посчитали абсолютные показатели. Видим, что пользователи равнрмерно распрежелены по группам, что позволяет нам провести стат тесты правильно. \n"
   ]
  },
  {
   "cell_type": "markdown",
   "id": "ab33d3fe",
   "metadata": {},
   "source": [
    "## Выбросы"
   ]
  },
  {
   "cell_type": "markdown",
   "id": "909e8add",
   "metadata": {},
   "source": [
    "Посмотрим на выбросы в revenue \n"
   ]
  },
  {
   "cell_type": "code",
   "execution_count": 366,
   "id": "8f1996a8",
   "metadata": {},
   "outputs": [
    {
     "name": "stdout",
     "output_type": "stream",
     "text": [
      "Выбросы в контрольной\n"
     ]
    },
    {
     "data": {
      "text/plain": [
       "<AxesSubplot:>"
      ]
     },
     "execution_count": 366,
     "metadata": {},
     "output_type": "execute_result"
    },
    {
     "data": {
      "image/png": "[encoded data removed]",
      "text/plain": [
       "<Figure size 432x288 with 1 Axes>"
      ]
     },
     "metadata": {
      "needs_background": "light"
     },
     "output_type": "display_data"
    }
   ],
   "source": [
    "print('Выбросы в контрольной')\n",
    "df[(df['var']=='control') & (df['revenue']>0)].boxplot(column='revenue')\n",
    "\n",
    "\n",
    "\n",
    "\n"
   ]
  },
  {
   "cell_type": "code",
   "execution_count": 367,
   "id": "42b6455e",
   "metadata": {},
   "outputs": [
    {
     "name": "stdout",
     "output_type": "stream",
     "text": [
      "Выбросы в контрольной\n"
     ]
    },
    {
     "data": {
      "text/plain": [
       "<AxesSubplot:>"
      ]
     },
     "execution_count": 367,
     "metadata": {},
     "output_type": "execute_result"
    },
    {
     "data": {
      "image/png": "[encoded data removed]",
      "text/plain": [
       "<Figure size 432x288 with 1 Axes>"
      ]
     },
     "metadata": {
      "needs_background": "light"
     },
     "output_type": "display_data"
    }
   ],
   "source": [
    "# избавимся от самого большого выброса и посмотрим на боксплот ближе\n",
    "print('Выбросы в контрольной')\n",
    "df[(df['var']=='control') & (df['revenue']>0) & (df['revenue']<50)].boxplot(column='revenue')\n",
    "\n"
   ]
  },
  {
   "cell_type": "code",
   "execution_count": 368,
   "id": "c64d07f5",
   "metadata": {},
   "outputs": [
    {
     "name": "stdout",
     "output_type": "stream",
     "text": [
      "Выбросы в тестовой\n"
     ]
    },
    {
     "data": {
      "text/plain": [
       "<AxesSubplot:>"
      ]
     },
     "execution_count": 368,
     "metadata": {},
     "output_type": "execute_result"
    },
    {
     "data": {
      "image/png": "[encoded data removed]",
      "text/plain": [
       "<Figure size 432x288 with 1 Axes>"
      ]
     },
     "metadata": {
      "needs_background": "light"
     },
     "output_type": "display_data"
    }
   ],
   "source": [
    "print('Выбросы в тестовой')\n",
    "df[(df['var']=='variant') & (df['revenue']>0)].boxplot(column='revenue')\n",
    "\n"
   ]
  },
  {
   "cell_type": "markdown",
   "id": "463e591e",
   "metadata": {},
   "source": [
    "<b>Что мы видим: </b>\n",
    "- Медианы в группах визуально отличаются не сильно\n",
    "- В тестовой группе верхняя граница меньше чем в контрольной \n",
    "- 50% самых популярных значений в тестовой группе чуть меньше по доходу чем в контрольной (75 процентиль в тестовой < 5, в контрольной = 5)\n",
    "- И в тестовой и в контрольной группах есть выбросы. В и в тестовой и в контрольной группе это показатели больше 10.\n",
    "\n",
    "Что будем делать: \n",
    "- Денежные показатели будем тестировать двумя способами: с помощью <b>T-критерия</b> и <b>Теста Манна-Уитни</b>\n",
    "- <b>Т-критерий</b> потестим среднее значение без учета выбросов, потому что средние значения чувствительны к выбросам. \n",
    "    - Для подсчета <b>ARPU</b> данных вполне достаточно, поэтому можем использовать этот тест с чистой совестью. \n",
    "    - Для <b>ARPPU</b> уже не сказать чтобы очень много, но в статистике считается, что если выборка > 30, то она достаточно большая для применения парметрических тестов, требующих, чтобы распределение среднего значения было нормальным (ЦПТ). Тем не менее, из-за количества данных мощность теста здесь будет низкая, поэтому здесь будем действовать осторожнее и обязательно будем смотреть на результаты теста Манна_Уитни, который не требует нормальности распределения и работающий на выборках с небольшим кол-вом данных.\n",
    "- <b>Тест Манна-Уитни</b> проведем с выбросами, так как он не чувствителен к ним, ведь он сравнивает сами распределения данных. Этот тест менее мощный, чем Т-критерий. \n",
    "    - <b>ARPU</b> посмотрим с выбросами \n",
    "    - Хорошо подходит для <b>ARPPU</b>, так как в случае этой метрики у нас не так много данных \n",
    "\n",
    "\n"
   ]
  },
  {
   "cell_type": "markdown",
   "id": "ed6945ce",
   "metadata": {},
   "source": [
    "## Считаем показатели без выбросов \n",
    "Выбросы в тестовой = revenue > 10\n",
    "Выбросы в контрольной = revenue > 10"
   ]
  },
  {
   "cell_type": "code",
   "execution_count": 369,
   "id": "afab90a2",
   "metadata": {},
   "outputs": [
    {
     "data": {
      "text/html": [
       "<div>\n",
       "<style scoped>\n",
       "    .dataframe tbody tr th:only-of-type {\n",
       "        vertical-align: middle;\n",
       "    }\n",
       "\n",
       "    .dataframe tbody tr th {\n",
       "        vertical-align: top;\n",
       "    }\n",
       "\n",
       "    .dataframe thead th {\n",
       "        text-align: right;\n",
       "    }\n",
       "</style>\n",
       "<table border=\"1\" class=\"dataframe\">\n",
       "  <thead>\n",
       "    <tr style=\"text-align: right;\">\n",
       "      <th></th>\n",
       "      <th>user_id</th>\n",
       "      <th>var</th>\n",
       "      <th>revenue</th>\n",
       "    </tr>\n",
       "  </thead>\n",
       "  <tbody>\n",
       "    <tr>\n",
       "      <th>0</th>\n",
       "      <td>2</td>\n",
       "      <td>control</td>\n",
       "      <td>0.0</td>\n",
       "    </tr>\n",
       "    <tr>\n",
       "      <th>1</th>\n",
       "      <td>4</td>\n",
       "      <td>variant</td>\n",
       "      <td>0.0</td>\n",
       "    </tr>\n",
       "    <tr>\n",
       "      <th>2</th>\n",
       "      <td>5</td>\n",
       "      <td>variant</td>\n",
       "      <td>0.0</td>\n",
       "    </tr>\n",
       "    <tr>\n",
       "      <th>3</th>\n",
       "      <td>6</td>\n",
       "      <td>variant</td>\n",
       "      <td>0.0</td>\n",
       "    </tr>\n",
       "    <tr>\n",
       "      <th>4</th>\n",
       "      <td>9</td>\n",
       "      <td>variant</td>\n",
       "      <td>0.0</td>\n",
       "    </tr>\n",
       "    <tr>\n",
       "      <th>...</th>\n",
       "      <td>...</td>\n",
       "      <td>...</td>\n",
       "      <td>...</td>\n",
       "    </tr>\n",
       "    <tr>\n",
       "      <th>4778</th>\n",
       "      <td>9990</td>\n",
       "      <td>variant</td>\n",
       "      <td>0.0</td>\n",
       "    </tr>\n",
       "    <tr>\n",
       "      <th>4779</th>\n",
       "      <td>9992</td>\n",
       "      <td>control</td>\n",
       "      <td>0.0</td>\n",
       "    </tr>\n",
       "    <tr>\n",
       "      <th>4780</th>\n",
       "      <td>9993</td>\n",
       "      <td>control</td>\n",
       "      <td>0.0</td>\n",
       "    </tr>\n",
       "    <tr>\n",
       "      <th>4781</th>\n",
       "      <td>9995</td>\n",
       "      <td>variant</td>\n",
       "      <td>0.0</td>\n",
       "    </tr>\n",
       "    <tr>\n",
       "      <th>4782</th>\n",
       "      <td>9998</td>\n",
       "      <td>control</td>\n",
       "      <td>0.0</td>\n",
       "    </tr>\n",
       "  </tbody>\n",
       "</table>\n",
       "<p>4769 rows × 3 columns</p>\n",
       "</div>"
      ],
      "text/plain": [
       "      user_id      var  revenue\n",
       "0           2  control      0.0\n",
       "1           4  variant      0.0\n",
       "2           5  variant      0.0\n",
       "3           6  variant      0.0\n",
       "4           9  variant      0.0\n",
       "...       ...      ...      ...\n",
       "4778     9990  variant      0.0\n",
       "4779     9992  control      0.0\n",
       "4780     9993  control      0.0\n",
       "4781     9995  variant      0.0\n",
       "4782     9998  control      0.0\n",
       "\n",
       "[4769 rows x 3 columns]"
      ]
     },
     "metadata": {},
     "output_type": "display_data"
    }
   ],
   "source": [
    "# создадим датафрейм без выбросов\n",
    "df2 = df[df['revenue']<10]\n",
    "display(df2)\n"
   ]
  },
  {
   "cell_type": "code",
   "execution_count": 370,
   "id": "dc0560b5",
   "metadata": {},
   "outputs": [],
   "source": [
    "# количество юзеров\n",
    "res2 = df2.groupby(['var']).agg({\n",
    "    'user_id': 'nunique'\n",
    "}).reset_index().rename(columns = {'user_id':'unl_users'})\n",
    "\n",
    "# распредение по группам \n",
    "res2['unl_%GT'] = (res2['unl_users']/res2['unl_users'].sum())*100\n",
    "\n",
    "# Количество пользователей с покупкой\n",
    "order_users2 =  df2[df2['revenue']>0].groupby('var')['user_id'].nunique().reset_index().rename(columns = {'user_id': 'unl_paying_users'})\n",
    "res2 = res2.merge(order_users2, on = 'var', how='inner')\n",
    "\n",
    "# Доход \n",
    "revenue2 = df2.groupby('var')['revenue'].sum().reset_index().rename(columns = {'revenue': 'unl_revenue'})\n",
    "res2 = res2.merge(revenue2, on= 'var', how = 'inner')\n",
    "\n",
    "\n"
   ]
  },
  {
   "cell_type": "code",
   "execution_count": null,
   "id": "f0066c9d",
   "metadata": {},
   "outputs": [],
   "source": []
  },
  {
   "cell_type": "code",
   "execution_count": 371,
   "id": "efd55f53",
   "metadata": {},
   "outputs": [
    {
     "name": "stdout",
     "output_type": "stream",
     "text": [
      "С выбросами\n"
     ]
    },
    {
     "data": {
      "text/html": [
       "<div>\n",
       "<style scoped>\n",
       "    .dataframe tbody tr th:only-of-type {\n",
       "        vertical-align: middle;\n",
       "    }\n",
       "\n",
       "    .dataframe tbody tr th {\n",
       "        vertical-align: top;\n",
       "    }\n",
       "\n",
       "    .dataframe thead th {\n",
       "        text-align: right;\n",
       "    }\n",
       "</style>\n",
       "<table border=\"1\" class=\"dataframe\">\n",
       "  <thead>\n",
       "    <tr style=\"text-align: right;\">\n",
       "      <th></th>\n",
       "      <th>var</th>\n",
       "      <th>users</th>\n",
       "      <th>%GT</th>\n",
       "      <th>paying_users</th>\n",
       "      <th>revenue</th>\n",
       "    </tr>\n",
       "  </thead>\n",
       "  <tbody>\n",
       "    <tr>\n",
       "      <th>0</th>\n",
       "      <td>control</td>\n",
       "      <td>2390</td>\n",
       "      <td>49.968639</td>\n",
       "      <td>54</td>\n",
       "      <td>470.56</td>\n",
       "    </tr>\n",
       "    <tr>\n",
       "      <th>1</th>\n",
       "      <td>variant</td>\n",
       "      <td>2393</td>\n",
       "      <td>50.031361</td>\n",
       "      <td>42</td>\n",
       "      <td>179.32</td>\n",
       "    </tr>\n",
       "  </tbody>\n",
       "</table>\n",
       "</div>"
      ],
      "text/plain": [
       "       var  users        %GT  paying_users  revenue\n",
       "0  control   2390  49.968639            54   470.56\n",
       "1  variant   2393  50.031361            42   179.32"
      ]
     },
     "metadata": {},
     "output_type": "display_data"
    },
    {
     "name": "stdout",
     "output_type": "stream",
     "text": [
      "Без выбросов\n"
     ]
    },
    {
     "data": {
      "text/html": [
       "<div>\n",
       "<style scoped>\n",
       "    .dataframe tbody tr th:only-of-type {\n",
       "        vertical-align: middle;\n",
       "    }\n",
       "\n",
       "    .dataframe tbody tr th {\n",
       "        vertical-align: top;\n",
       "    }\n",
       "\n",
       "    .dataframe thead th {\n",
       "        text-align: right;\n",
       "    }\n",
       "</style>\n",
       "<table border=\"1\" class=\"dataframe\">\n",
       "  <thead>\n",
       "    <tr style=\"text-align: right;\">\n",
       "      <th></th>\n",
       "      <th>var</th>\n",
       "      <th>unl_users</th>\n",
       "      <th>unl_%GT</th>\n",
       "      <th>unl_paying_users</th>\n",
       "      <th>unl_revenue</th>\n",
       "    </tr>\n",
       "  </thead>\n",
       "  <tbody>\n",
       "    <tr>\n",
       "      <th>0</th>\n",
       "      <td>control</td>\n",
       "      <td>2381</td>\n",
       "      <td>49.926609</td>\n",
       "      <td>45</td>\n",
       "      <td>138.63</td>\n",
       "    </tr>\n",
       "    <tr>\n",
       "      <th>1</th>\n",
       "      <td>variant</td>\n",
       "      <td>2388</td>\n",
       "      <td>50.073391</td>\n",
       "      <td>37</td>\n",
       "      <td>100.01</td>\n",
       "    </tr>\n",
       "  </tbody>\n",
       "</table>\n",
       "</div>"
      ],
      "text/plain": [
       "       var  unl_users    unl_%GT  unl_paying_users  unl_revenue\n",
       "0  control       2381  49.926609                45       138.63\n",
       "1  variant       2388  50.073391                37       100.01"
      ]
     },
     "metadata": {},
     "output_type": "display_data"
    }
   ],
   "source": [
    "print(\"С выбросами\")\n",
    "display(res)\n",
    "print(\"Без выбросов\")\n",
    "display(res2)\n"
   ]
  },
  {
   "cell_type": "markdown",
   "id": "c5bd3a48",
   "metadata": {},
   "source": [
    "Данных без выбросов стало не сильно меньше, зато доход в контрольной версии стал значительно меньше."
   ]
  },
  {
   "cell_type": "markdown",
   "id": "72f038f0",
   "metadata": {},
   "source": [
    "## Подсчет метрик\n",
    "\n",
    "<b>Ключевые метрики: </b>\n",
    "- <b>ARPU</b> = доход / уникальные юзеры \n",
    "\n",
    "<b>Вспомогательные метрики: </b>\n",
    "- <b>CR в уникальный заказ</b> = покупающие уникальные юзеры / уникальные юзеры\n",
    "- <b>ARPPU</b> = доход / покупающие уникальные юзеры \n",
    "\n",
    "\n",
    "\n"
   ]
  },
  {
   "cell_type": "code",
   "execution_count": 372,
   "id": "e1fc62dd",
   "metadata": {},
   "outputs": [],
   "source": [
    "# Считаем метрики с выбросами\n",
    "res['ARPU'] = res['revenue'] / res['users']\n",
    "res['ARPPU'] = res['revenue'] / res['paying_users']\n",
    "res['CR_order'] = (res['paying_users'] / res['users'])*100\n"
   ]
  },
  {
   "cell_type": "code",
   "execution_count": 373,
   "id": "787ebfd3",
   "metadata": {},
   "outputs": [],
   "source": [
    "# Считаем метрики без выбросов\n",
    "res2['unl_ARPU'] = res2['unl_revenue'] / res2['unl_users']\n",
    "res2['unl_ARPPU'] = res2['unl_revenue'] / res2['unl_paying_users']\n",
    "res2['unl_CR_order'] = (res2['unl_paying_users'] / res2['unl_users'])*100\n"
   ]
  },
  {
   "cell_type": "code",
   "execution_count": 374,
   "id": "fd46955b",
   "metadata": {
    "scrolled": true
   },
   "outputs": [
    {
     "name": "stdout",
     "output_type": "stream",
     "text": [
      "С выбросами\n"
     ]
    },
    {
     "data": {
      "text/html": [
       "<div>\n",
       "<style scoped>\n",
       "    .dataframe tbody tr th:only-of-type {\n",
       "        vertical-align: middle;\n",
       "    }\n",
       "\n",
       "    .dataframe tbody tr th {\n",
       "        vertical-align: top;\n",
       "    }\n",
       "\n",
       "    .dataframe thead th {\n",
       "        text-align: right;\n",
       "    }\n",
       "</style>\n",
       "<table border=\"1\" class=\"dataframe\">\n",
       "  <thead>\n",
       "    <tr style=\"text-align: right;\">\n",
       "      <th></th>\n",
       "      <th>var</th>\n",
       "      <th>users</th>\n",
       "      <th>%GT</th>\n",
       "      <th>paying_users</th>\n",
       "      <th>revenue</th>\n",
       "      <th>ARPU</th>\n",
       "      <th>ARPPU</th>\n",
       "      <th>CR_order</th>\n",
       "    </tr>\n",
       "  </thead>\n",
       "  <tbody>\n",
       "    <tr>\n",
       "      <th>0</th>\n",
       "      <td>control</td>\n",
       "      <td>2390</td>\n",
       "      <td>49.968639</td>\n",
       "      <td>54</td>\n",
       "      <td>470.56</td>\n",
       "      <td>0.196887</td>\n",
       "      <td>8.714074</td>\n",
       "      <td>2.259414</td>\n",
       "    </tr>\n",
       "    <tr>\n",
       "      <th>1</th>\n",
       "      <td>variant</td>\n",
       "      <td>2393</td>\n",
       "      <td>50.031361</td>\n",
       "      <td>42</td>\n",
       "      <td>179.32</td>\n",
       "      <td>0.074935</td>\n",
       "      <td>4.269524</td>\n",
       "      <td>1.755119</td>\n",
       "    </tr>\n",
       "  </tbody>\n",
       "</table>\n",
       "</div>"
      ],
      "text/plain": [
       "       var  users        %GT  paying_users  revenue      ARPU     ARPPU  \\\n",
       "0  control   2390  49.968639            54   470.56  0.196887  8.714074   \n",
       "1  variant   2393  50.031361            42   179.32  0.074935  4.269524   \n",
       "\n",
       "   CR_order  \n",
       "0  2.259414  \n",
       "1  1.755119  "
      ]
     },
     "metadata": {},
     "output_type": "display_data"
    },
    {
     "name": "stdout",
     "output_type": "stream",
     "text": [
      "Без выбросов\n"
     ]
    },
    {
     "data": {
      "text/html": [
       "<div>\n",
       "<style scoped>\n",
       "    .dataframe tbody tr th:only-of-type {\n",
       "        vertical-align: middle;\n",
       "    }\n",
       "\n",
       "    .dataframe tbody tr th {\n",
       "        vertical-align: top;\n",
       "    }\n",
       "\n",
       "    .dataframe thead th {\n",
       "        text-align: right;\n",
       "    }\n",
       "</style>\n",
       "<table border=\"1\" class=\"dataframe\">\n",
       "  <thead>\n",
       "    <tr style=\"text-align: right;\">\n",
       "      <th></th>\n",
       "      <th>var</th>\n",
       "      <th>unl_users</th>\n",
       "      <th>unl_%GT</th>\n",
       "      <th>unl_paying_users</th>\n",
       "      <th>unl_revenue</th>\n",
       "      <th>unl_ARPU</th>\n",
       "      <th>unl_ARPPU</th>\n",
       "      <th>unl_CR_order</th>\n",
       "    </tr>\n",
       "  </thead>\n",
       "  <tbody>\n",
       "    <tr>\n",
       "      <th>0</th>\n",
       "      <td>control</td>\n",
       "      <td>2381</td>\n",
       "      <td>49.926609</td>\n",
       "      <td>45</td>\n",
       "      <td>138.63</td>\n",
       "      <td>0.058223</td>\n",
       "      <td>3.080667</td>\n",
       "      <td>1.889962</td>\n",
       "    </tr>\n",
       "    <tr>\n",
       "      <th>1</th>\n",
       "      <td>variant</td>\n",
       "      <td>2388</td>\n",
       "      <td>50.073391</td>\n",
       "      <td>37</td>\n",
       "      <td>100.01</td>\n",
       "      <td>0.041880</td>\n",
       "      <td>2.702973</td>\n",
       "      <td>1.549414</td>\n",
       "    </tr>\n",
       "  </tbody>\n",
       "</table>\n",
       "</div>"
      ],
      "text/plain": [
       "       var  unl_users    unl_%GT  unl_paying_users  unl_revenue  unl_ARPU  \\\n",
       "0  control       2381  49.926609                45       138.63  0.058223   \n",
       "1  variant       2388  50.073391                37       100.01  0.041880   \n",
       "\n",
       "   unl_ARPPU  unl_CR_order  \n",
       "0   3.080667      1.889962  \n",
       "1   2.702973      1.549414  "
      ]
     },
     "metadata": {},
     "output_type": "display_data"
    }
   ],
   "source": [
    "print('С выбросами')\n",
    "display(res)\n",
    "print('Без выбросов')\n",
    "display(res2)\n"
   ]
  },
  {
   "cell_type": "markdown",
   "id": "85172538",
   "metadata": {},
   "source": [
    "Получили две таблицы с данными с выбросами и без. \n",
    "В случае ARPU и ARPPU надежнее смотреть на данные без выбросаов. В случае CR в покупку смотрим на данные с выбросами, так как в пропорциях выбросов нет. "
   ]
  },
  {
   "cell_type": "code",
   "execution_count": 375,
   "id": "acb4ed09",
   "metadata": {},
   "outputs": [],
   "source": [
    "res = res.merge(res2, how = 'inner', left_on='var', right_on='var')\n",
    "\n"
   ]
  },
  {
   "cell_type": "code",
   "execution_count": 376,
   "id": "e7665a5a",
   "metadata": {},
   "outputs": [],
   "source": [
    "res_abs = res[['var', 'users', 'unl_users', '%GT', 'unl_%GT', 'paying_users', 'unl_paying_users', 'revenue', 'unl_revenue']]\n",
    "res_relative = res[['var', 'unl_ARPU', 'ARPU', 'unl_ARPPU', 'ARPPU', 'CR_order']]\n",
    "\n",
    "res_abs_T = res_abs.T\n",
    "res_abs_T.columns = res_abs_T.iloc[0]\n",
    "res_abs_T = res_abs_T.iloc[1:]\n",
    "\n",
    "res_relative = res_relative.T\n",
    "res_relative.columns = res_relative.iloc[0]\n",
    "res_relative = res_relative.iloc[1:]\n",
    "\n",
    "res_relative['%_delta'] = (100/res_relative['control'])*res_relative['variant']-100\n"
   ]
  },
  {
   "cell_type": "code",
   "execution_count": 377,
   "id": "5a7cba7a",
   "metadata": {
    "scrolled": true
   },
   "outputs": [
    {
     "name": "stdout",
     "output_type": "stream",
     "text": [
      "Абсолютные показатели\n"
     ]
    },
    {
     "data": {
      "text/html": [
       "<div>\n",
       "<style scoped>\n",
       "    .dataframe tbody tr th:only-of-type {\n",
       "        vertical-align: middle;\n",
       "    }\n",
       "\n",
       "    .dataframe tbody tr th {\n",
       "        vertical-align: top;\n",
       "    }\n",
       "\n",
       "    .dataframe thead th {\n",
       "        text-align: right;\n",
       "    }\n",
       "</style>\n",
       "<table border=\"1\" class=\"dataframe\">\n",
       "  <thead>\n",
       "    <tr style=\"text-align: right;\">\n",
       "      <th>var</th>\n",
       "      <th>control</th>\n",
       "      <th>variant</th>\n",
       "    </tr>\n",
       "  </thead>\n",
       "  <tbody>\n",
       "    <tr>\n",
       "      <th>users</th>\n",
       "      <td>2390</td>\n",
       "      <td>2393</td>\n",
       "    </tr>\n",
       "    <tr>\n",
       "      <th>unl_users</th>\n",
       "      <td>2381</td>\n",
       "      <td>2388</td>\n",
       "    </tr>\n",
       "    <tr>\n",
       "      <th>%GT</th>\n",
       "      <td>49.968639</td>\n",
       "      <td>50.031361</td>\n",
       "    </tr>\n",
       "    <tr>\n",
       "      <th>unl_%GT</th>\n",
       "      <td>49.926609</td>\n",
       "      <td>50.073391</td>\n",
       "    </tr>\n",
       "    <tr>\n",
       "      <th>paying_users</th>\n",
       "      <td>54</td>\n",
       "      <td>42</td>\n",
       "    </tr>\n",
       "    <tr>\n",
       "      <th>unl_paying_users</th>\n",
       "      <td>45</td>\n",
       "      <td>37</td>\n",
       "    </tr>\n",
       "    <tr>\n",
       "      <th>revenue</th>\n",
       "      <td>470.56</td>\n",
       "      <td>179.32</td>\n",
       "    </tr>\n",
       "    <tr>\n",
       "      <th>unl_revenue</th>\n",
       "      <td>138.63</td>\n",
       "      <td>100.01</td>\n",
       "    </tr>\n",
       "  </tbody>\n",
       "</table>\n",
       "</div>"
      ],
      "text/plain": [
       "var                 control    variant\n",
       "users                  2390       2393\n",
       "unl_users              2381       2388\n",
       "%GT               49.968639  50.031361\n",
       "unl_%GT           49.926609  50.073391\n",
       "paying_users             54         42\n",
       "unl_paying_users         45         37\n",
       "revenue              470.56     179.32\n",
       "unl_revenue          138.63     100.01"
      ]
     },
     "metadata": {},
     "output_type": "display_data"
    },
    {
     "name": "stdout",
     "output_type": "stream",
     "text": [
      "Относительные показатели\n"
     ]
    },
    {
     "data": {
      "text/html": [
       "<div>\n",
       "<style scoped>\n",
       "    .dataframe tbody tr th:only-of-type {\n",
       "        vertical-align: middle;\n",
       "    }\n",
       "\n",
       "    .dataframe tbody tr th {\n",
       "        vertical-align: top;\n",
       "    }\n",
       "\n",
       "    .dataframe thead th {\n",
       "        text-align: right;\n",
       "    }\n",
       "</style>\n",
       "<table border=\"1\" class=\"dataframe\">\n",
       "  <thead>\n",
       "    <tr style=\"text-align: right;\">\n",
       "      <th>var</th>\n",
       "      <th>control</th>\n",
       "      <th>variant</th>\n",
       "      <th>%_delta</th>\n",
       "    </tr>\n",
       "  </thead>\n",
       "  <tbody>\n",
       "    <tr>\n",
       "      <th>unl_ARPU</th>\n",
       "      <td>0.058223</td>\n",
       "      <td>0.04188</td>\n",
       "      <td>-28.069798</td>\n",
       "    </tr>\n",
       "    <tr>\n",
       "      <th>ARPU</th>\n",
       "      <td>0.196887</td>\n",
       "      <td>0.074935</td>\n",
       "      <td>-61.939988</td>\n",
       "    </tr>\n",
       "    <tr>\n",
       "      <th>unl_ARPPU</th>\n",
       "      <td>3.080667</td>\n",
       "      <td>2.702973</td>\n",
       "      <td>-12.260129</td>\n",
       "    </tr>\n",
       "    <tr>\n",
       "      <th>ARPPU</th>\n",
       "      <td>8.714074</td>\n",
       "      <td>4.269524</td>\n",
       "      <td>-51.004275</td>\n",
       "    </tr>\n",
       "    <tr>\n",
       "      <th>CR_order</th>\n",
       "      <td>2.259414</td>\n",
       "      <td>1.755119</td>\n",
       "      <td>-22.319729</td>\n",
       "    </tr>\n",
       "  </tbody>\n",
       "</table>\n",
       "</div>"
      ],
      "text/plain": [
       "var         control   variant    %_delta\n",
       "unl_ARPU   0.058223   0.04188 -28.069798\n",
       "ARPU       0.196887  0.074935 -61.939988\n",
       "unl_ARPPU  3.080667  2.702973 -12.260129\n",
       "ARPPU      8.714074  4.269524 -51.004275\n",
       "CR_order   2.259414  1.755119 -22.319729"
      ]
     },
     "metadata": {},
     "output_type": "display_data"
    }
   ],
   "source": [
    "print('Абсолютные показатели')\n",
    "display(res_abs_T)\n",
    "print('Относительные показатели')\n",
    "display(res_relative)\n",
    "\n"
   ]
  },
  {
   "cell_type": "markdown",
   "id": "ffb67401",
   "metadata": {},
   "source": [
    "## Проверка на статистическую значимость"
   ]
  },
  {
   "cell_type": "code",
   "execution_count": 378,
   "id": "220ef18c",
   "metadata": {},
   "outputs": [],
   "source": [
    "from scipy import stats\n",
    "from scipy.stats import norm\n",
    "from scipy.stats import t\n",
    "from statsmodels.stats.proportion import proportion_confint\n",
    "from statsmodels.stats.weightstats import ztest\n",
    "from statsmodels.stats import weightstats\n",
    "from datetime import datetime\n",
    "import statsmodels.stats.weightstats as ws\n",
    "import math \n",
    "import matplotlib.pyplot as plt\n"
   ]
  },
  {
   "cell_type": "markdown",
   "id": "e0e6a9f2",
   "metadata": {},
   "source": [
    "### ARPU\n",
    "\n",
    "- H0: arpu_control = arpu_test\n",
    "- H1: arpu_control > arpu_test"
   ]
  },
  {
   "cell_type": "code",
   "execution_count": 379,
   "id": "4c3b49c4",
   "metadata": {},
   "outputs": [
    {
     "name": "stdout",
     "output_type": "stream",
     "text": [
      "MannwhitneyuResult(statistic=2874161.0, pvalue=0.10524375041358902)\n",
      "Ttest_indResult 1.1731071476713617 0.1204078089046024397\n"
     ]
    }
   ],
   "source": [
    "\n",
    "# Тест Манна_Уитни с выбросами\n",
    "u_result_bill = stats.mannwhitneyu(df[df['var']=='control']['revenue'], df[df['var']=='variant']['revenue'], \n",
    "                              alternative='greater')\n",
    "\n",
    "# Т-тест без выбросов \n",
    "t_result_bill = weightstats.ttest_ind(df2[df2['var']=='control']['revenue'], df2[df2['var']=='variant']['revenue'],\n",
    "                     usevar='unequal', alternative='larger')\n",
    "\n",
    "print(u_result_bill)\n",
    "print('Ttest_indResult', t_result_bill[0], '{:.19f}'.format(t_result_bill[1]))\n"
   ]
  },
  {
   "cell_type": "markdown",
   "id": "522e62e9",
   "metadata": {},
   "source": [
    "- H0: arpu_control = arpu_test\n",
    "- H1: arpu_control != arpu_test"
   ]
  },
  {
   "cell_type": "code",
   "execution_count": 380,
   "id": "dedc834e",
   "metadata": {},
   "outputs": [
    {
     "name": "stdout",
     "output_type": "stream",
     "text": [
      "MannwhitneyuResult(statistic=2874161.0, pvalue=0.21048750082717804)\n",
      "Ttest_indResult 1.1731071476713617 0.2408156178092048794\n"
     ]
    }
   ],
   "source": [
    "# Тест Манна_Уитни с выбросами\n",
    "u_result_bill = stats.mannwhitneyu(df[df['var']=='control']['revenue'], df[df['var']=='variant']['revenue'], \n",
    "                              alternative='two-sided')\n",
    "\n",
    "# Т-тест без выбросов \n",
    "t_result_bill = weightstats.ttest_ind(df2[df2['var']=='control']['revenue'], df2[df2['var']=='variant']['revenue'],\n",
    "                     usevar='unequal', alternative='two-sided')\n",
    "\n",
    "print(u_result_bill)\n",
    "print('Ttest_indResult', t_result_bill[0], '{:.19f}'.format(t_result_bill[1]))\n",
    "\n",
    "\n",
    "\n"
   ]
  },
  {
   "cell_type": "markdown",
   "id": "16433bc4",
   "metadata": {},
   "source": [
    "- H0: arpu_control = arpu_test\n",
    "- H1: arpu_control > arpu_test\n",
    "- a = 0.05\n",
    "- T_p-value = 0.12\n",
    "- MW_p-value = 0.21\n",
    "- T_p-value > a \n",
    "- MW_p-value > a \n",
    "- => Подтверждаем H0 и считаем, что разницы в arpu нет. \n",
    "\n",
    "\n",
    "\n",
    "\n",
    "- H0: arpu_control = arpu_test\n",
    "- H1: arpu_control != arpu_test\n",
    "- a = 0.05\n",
    "- T_p-value = 0.24\n",
    "- MW_p-value = 0.21\n",
    "- T_p-value > a \n",
    "- MW_p-value > a \n",
    "- => Подтверждаем H0 и считаем, что разницы в arpu нет. \n",
    "\n",
    "\n",
    "<b>Стат. значимость разницы в ARPU не подтвердилась</b>. Тем не менее разница в -28% в выборке без выбросов кажется мне довольно высокой. Возможно, нам не хватает данных, чтобы получить стат. значимость. Для того, чтобы убедиться в этом, я бы дополнительно сдела бы следующее: \n",
    "- Построила график накопительного значения p-value по каждому дню/неделе и посмотрела бы на динамику. Если по мере увеличения данных p-value уменьшается, то это верный знак того, что мы достигнем стат.значимости на бОльшей выборке. \n",
    "- Посмтроила бы график с показателями arpu по дням/неделям по каждой группе. Если по в тестовой группе статично по каждому дню/неделе arpu меньше чем в контрольной, то это тоже показало бы наличие разницы. "
   ]
  },
  {
   "cell_type": "markdown",
   "id": "b15cb15a",
   "metadata": {},
   "source": [
    "### ARPPU\n",
    "- H0: arppu_control = arpu_test\n",
    "- H1: arppu_control > arpu_test"
   ]
  },
  {
   "cell_type": "code",
   "execution_count": 381,
   "id": "b1beb70c",
   "metadata": {},
   "outputs": [
    {
     "name": "stdout",
     "output_type": "stream",
     "text": [
      "MannwhitneyuResult(statistic=1239.0, pvalue=0.22007578927641286)\n",
      "Ttest_indResult 0.7628228300228694 0.2239081056798377656\n"
     ]
    }
   ],
   "source": [
    "\n",
    "u_result_bill = stats.mannwhitneyu(df[(df['var']=='control') & (df['revenue']>0)]['revenue'], df[(df['var']=='variant') & (df['revenue']>0)]['revenue'], \n",
    "                              alternative='greater')\n",
    "\n",
    "\n",
    "t_result_bill = weightstats.ttest_ind(df2[(df2['var']=='control') & (df2['revenue']>0)]['revenue'], df2[(df2['var']=='variant')& (df2['revenue']>0)]['revenue'],\n",
    "                     usevar='unequal', alternative='larger')\n",
    "\n",
    "print(u_result_bill)\n",
    "print('Ttest_indResult', t_result_bill[0], '{:.19f}'.format(t_result_bill[1]))\n"
   ]
  },
  {
   "cell_type": "markdown",
   "id": "35ac85c6",
   "metadata": {},
   "source": [
    "- H0: arppu_control = arpu_test\n",
    "- H1: arppu_control != arpu_test"
   ]
  },
  {
   "cell_type": "code",
   "execution_count": 382,
   "id": "70dbb972",
   "metadata": {},
   "outputs": [
    {
     "name": "stdout",
     "output_type": "stream",
     "text": [
      "MannwhitneyuResult(statistic=1239.0, pvalue=0.4401515785528257)\n",
      "Ttest_indResult 0.7628228300228694 0.4478162113596755312\n"
     ]
    }
   ],
   "source": [
    "\n",
    "u_result_bill = stats.mannwhitneyu(df[(df['var']=='control') & (df['revenue']>0)]['revenue'], df[(df['var']=='variant') & (df['revenue']>0)]['revenue'], \n",
    "                              alternative='two-sided')\n",
    "\n",
    "\n",
    "t_result_bill = weightstats.ttest_ind(df2[(df2['var']=='control') & (df2['revenue']>0)]['revenue'], df2[(df2['var']=='variant')& (df2['revenue']>0)]['revenue'],\n",
    "                     usevar='unequal', alternative='two-sided')\n",
    "\n",
    "print(u_result_bill)\n",
    "print('Ttest_indResult', t_result_bill[0], '{:.19f}'.format(t_result_bill[1]))"
   ]
  },
  {
   "cell_type": "markdown",
   "id": "ebbe7760",
   "metadata": {},
   "source": [
    "- H0: arppu_control = arpu_test\n",
    "- H1: arppu_control > arpu_test\n",
    "- a = 0.05\n",
    "- T_p-value = 0.22\n",
    "- MW_p-value = 0.22\n",
    "- T_p-value > a \n",
    "- MW_p-value > a \n",
    "- => Подтверждаем H0 и считаем, что разницы в arpu нет. \n",
    "\n",
    "\n",
    "\n",
    "\n",
    "- H0: arppu_control = arpu_test\n",
    "- H1: arppu_control != arpu_test\n",
    "- a = 0.05\n",
    "- T_p-value = 0.45\n",
    "- MW_p-value = 0.44\n",
    "- T_p-value > a \n",
    "- MW_p-value > a \n",
    "- => Подтверждаем H0 и считаем, что разницы в arpu нет. \n",
    "\n",
    "\n",
    "<b>Стат. значимость разницы в ARPPU не подтвердилась</b>. Но здесь опять же наблюдаема] разнийа в -12% кажется довольно весомой и можно предположить, что нам просто не хватает данных. Здесь алгоритм такой же как и в случае ARPU: \n",
    "- Построить график накопительного значения p-value по каждому дню/неделе и посмотреть на динамику. Если по мере увеличения данных p-value уменьшается, то это верный знак того, что мы достигнем стат.значимости на бОльшей выборке. \n",
    "- Построить график с показателями arppu по дням/неделям по каждой группе. Если по в тестовой группе статично по каждому дню/неделе arppu меньше чем в контрольной, то это тоже показало бы наличие разницы. "
   ]
  },
  {
   "cell_type": "markdown",
   "id": "22bb94dd",
   "metadata": {},
   "source": [
    "### CR в заказ\n",
    "- H0: CR_control = CR_test\n",
    "- H1: CR_control > CR_test"
   ]
  },
  {
   "cell_type": "code",
   "execution_count": 383,
   "id": "c6e298cd",
   "metadata": {},
   "outputs": [
    {
     "name": "stdout",
     "output_type": "stream",
     "text": [
      "Ztest_indResult 1.2433733549915942 0.1068651421257098555\n"
     ]
    }
   ],
   "source": [
    "df['is_payed_user'] = df['revenue'].apply(lambda x: 1 if x>0 else 0)\n",
    "\n",
    "z_result_bill = weightstats.ztest(df[df['var']=='control']['is_payed_user'], df[df['var']=='variant']['is_payed_user'], alternative='larger', usevar='pooled')\n",
    "print('Ztest_indResult', z_result_bill[0], '{:.19f}'.format(z_result_bill[1]))\n",
    "\n"
   ]
  },
  {
   "cell_type": "markdown",
   "id": "72190c5e",
   "metadata": {},
   "source": [
    "- H0: CR_control = CR_test\n",
    "- H1: CR_control != CR_test\n"
   ]
  },
  {
   "cell_type": "code",
   "execution_count": 384,
   "id": "ef58bee0",
   "metadata": {},
   "outputs": [
    {
     "name": "stdout",
     "output_type": "stream",
     "text": [
      "Ztest_indResult 1.2433733549915942 0.2137302842514197110\n"
     ]
    }
   ],
   "source": [
    "z_result_bill = weightstats.ztest(df[df['var']=='control']['is_payed_user'], df[df['var']=='variant']['is_payed_user'], alternative='two-sided', usevar='pooled')\n",
    "print('Ztest_indResult', z_result_bill[0], '{:.19f}'.format(z_result_bill[1]))\n"
   ]
  },
  {
   "attachments": {
    "image.png": {
     "image/png": "[encoded data removed]"
    }
   },
   "cell_type": "markdown",
   "id": "367ad387",
   "metadata": {},
   "source": [
    "- H0: cr_control = cr_test\n",
    "- H1: cr_control > cr_test\n",
    "- a = 0.05\n",
    "- Z_p-value = 0.11\n",
    "- Z_p-value > a \n",
    "- => Подтверждаем H0 и считаем, что разницы в cr нет. \n",
    "\n",
    "\n",
    "\n",
    "\n",
    "- H0: cr_control = cr_test\n",
    "- H1: cr_control != cr_test\n",
    "- a = 0.05\n",
    "- Z_p-value = 0.21\n",
    "- Z_p-value > a \n",
    "- => Подтверждаем H0 и считаем, что разницы в cr нет. \n",
    "\n",
    "Z тест нам показал, что разницы в CR в заказ нет. Но калькулятор для определения необходимого количества данных в выборке говорит о том, что нам не хватает данных, так как для обнаружения разницы в 22% нужно, чтобы в каждом варианте было хотя бы по 18 700 строк, когда мы имеем только по 2 300. \n",
    "\n",
    "В данном случае мы можем опять же посмотреть на накопительную динамику по p-value и на график CR в каждой группе в динамике. \n",
    "\n",
    "![image.png](attachment:image.png)"
   ]
  },
  {
   "cell_type": "markdown",
   "id": "f7d33820",
   "metadata": {},
   "source": [
    "# Итог"
   ]
  },
  {
   "cell_type": "code",
   "execution_count": 385,
   "id": "75dae733",
   "metadata": {},
   "outputs": [
    {
     "name": "stdout",
     "output_type": "stream",
     "text": [
      "Абсолютные показатели\n"
     ]
    },
    {
     "data": {
      "text/html": [
       "<div>\n",
       "<style scoped>\n",
       "    .dataframe tbody tr th:only-of-type {\n",
       "        vertical-align: middle;\n",
       "    }\n",
       "\n",
       "    .dataframe tbody tr th {\n",
       "        vertical-align: top;\n",
       "    }\n",
       "\n",
       "    .dataframe thead th {\n",
       "        text-align: right;\n",
       "    }\n",
       "</style>\n",
       "<table border=\"1\" class=\"dataframe\">\n",
       "  <thead>\n",
       "    <tr style=\"text-align: right;\">\n",
       "      <th>var</th>\n",
       "      <th>control</th>\n",
       "      <th>variant</th>\n",
       "    </tr>\n",
       "  </thead>\n",
       "  <tbody>\n",
       "    <tr>\n",
       "      <th>users</th>\n",
       "      <td>2390</td>\n",
       "      <td>2393</td>\n",
       "    </tr>\n",
       "    <tr>\n",
       "      <th>unl_users</th>\n",
       "      <td>2381</td>\n",
       "      <td>2388</td>\n",
       "    </tr>\n",
       "    <tr>\n",
       "      <th>%GT</th>\n",
       "      <td>49.968639</td>\n",
       "      <td>50.031361</td>\n",
       "    </tr>\n",
       "    <tr>\n",
       "      <th>unl_%GT</th>\n",
       "      <td>49.926609</td>\n",
       "      <td>50.073391</td>\n",
       "    </tr>\n",
       "    <tr>\n",
       "      <th>paying_users</th>\n",
       "      <td>54</td>\n",
       "      <td>42</td>\n",
       "    </tr>\n",
       "    <tr>\n",
       "      <th>unl_paying_users</th>\n",
       "      <td>45</td>\n",
       "      <td>37</td>\n",
       "    </tr>\n",
       "    <tr>\n",
       "      <th>revenue</th>\n",
       "      <td>470.56</td>\n",
       "      <td>179.32</td>\n",
       "    </tr>\n",
       "    <tr>\n",
       "      <th>unl_revenue</th>\n",
       "      <td>138.63</td>\n",
       "      <td>100.01</td>\n",
       "    </tr>\n",
       "  </tbody>\n",
       "</table>\n",
       "</div>"
      ],
      "text/plain": [
       "var                 control    variant\n",
       "users                  2390       2393\n",
       "unl_users              2381       2388\n",
       "%GT               49.968639  50.031361\n",
       "unl_%GT           49.926609  50.073391\n",
       "paying_users             54         42\n",
       "unl_paying_users         45         37\n",
       "revenue              470.56     179.32\n",
       "unl_revenue          138.63     100.01"
      ]
     },
     "metadata": {},
     "output_type": "display_data"
    },
    {
     "name": "stdout",
     "output_type": "stream",
     "text": [
      "Относительные показатели\n"
     ]
    },
    {
     "data": {
      "text/html": [
       "<div>\n",
       "<style scoped>\n",
       "    .dataframe tbody tr th:only-of-type {\n",
       "        vertical-align: middle;\n",
       "    }\n",
       "\n",
       "    .dataframe tbody tr th {\n",
       "        vertical-align: top;\n",
       "    }\n",
       "\n",
       "    .dataframe thead th {\n",
       "        text-align: right;\n",
       "    }\n",
       "</style>\n",
       "<table border=\"1\" class=\"dataframe\">\n",
       "  <thead>\n",
       "    <tr style=\"text-align: right;\">\n",
       "      <th>var</th>\n",
       "      <th>control</th>\n",
       "      <th>variant</th>\n",
       "      <th>%_delta</th>\n",
       "    </tr>\n",
       "  </thead>\n",
       "  <tbody>\n",
       "    <tr>\n",
       "      <th>unl_ARPU</th>\n",
       "      <td>0.058223</td>\n",
       "      <td>0.04188</td>\n",
       "      <td>-28.069798</td>\n",
       "    </tr>\n",
       "    <tr>\n",
       "      <th>ARPU</th>\n",
       "      <td>0.196887</td>\n",
       "      <td>0.074935</td>\n",
       "      <td>-61.939988</td>\n",
       "    </tr>\n",
       "    <tr>\n",
       "      <th>unl_ARPPU</th>\n",
       "      <td>3.080667</td>\n",
       "      <td>2.702973</td>\n",
       "      <td>-12.260129</td>\n",
       "    </tr>\n",
       "    <tr>\n",
       "      <th>ARPPU</th>\n",
       "      <td>8.714074</td>\n",
       "      <td>4.269524</td>\n",
       "      <td>-51.004275</td>\n",
       "    </tr>\n",
       "    <tr>\n",
       "      <th>CR_order</th>\n",
       "      <td>2.259414</td>\n",
       "      <td>1.755119</td>\n",
       "      <td>-22.319729</td>\n",
       "    </tr>\n",
       "  </tbody>\n",
       "</table>\n",
       "</div>"
      ],
      "text/plain": [
       "var         control   variant    %_delta\n",
       "unl_ARPU   0.058223   0.04188 -28.069798\n",
       "ARPU       0.196887  0.074935 -61.939988\n",
       "unl_ARPPU  3.080667  2.702973 -12.260129\n",
       "ARPPU      8.714074  4.269524 -51.004275\n",
       "CR_order   2.259414  1.755119 -22.319729"
      ]
     },
     "metadata": {},
     "output_type": "display_data"
    }
   ],
   "source": [
    "print('Абсолютные показатели')\n",
    "display(res_abs_T)\n",
    "print('Относительные показатели')\n",
    "display(res_relative)\n"
   ]
  },
  {
   "cell_type": "markdown",
   "id": "24d4a740",
   "metadata": {},
   "source": [
    "<b>Вывод:</b> Гипотеза об увеличении дохода в тестовой группе не подтверждается. Наоборот, мы получили отрицательный эффект по всем метрикам, но для того, чтобы статистически подтвердить ухудшение нужно больше данных. \n",
    "\n",
    "unl_ означает что метрика посчитана без учета выбросов\n",
    "\n",
    "- delta unl_ARPU = - 28% (не стат. значимо)\n",
    "- delta unl_ARPPU = -12% (не стат. значимо)\n",
    "- delta CR_order = -22% (не стат. значимо)\n",
    "\n",
    "\n",
    "\n",
    "\n",
    "- Для достижения стат.значимости необходимо больше данных (как миниум по 18 700 в каждой группе). \n",
    "- Тем не менее, мы можем построить график с накопительным значенмем p-value по дням/неделям - если по мере увеличения количества данных наше p-value будет уменьшатся, то это верный признак того, что мы сможем подтвердить наличие отрицательного эффекта если бы у нас было еще больше данных. Дополнительно можно построить график с метриками в разрезе каждой группы и взглянуть на динамику - если показетли в тествой группе на протяжении всех периодов будут меньше чем в контрольной, то это дополнительный звонок о том, что различия на самом деле есть. \n",
    "\n",
    "\n"
   ]
  },
  {
   "cell_type": "markdown",
   "id": "a8d51260",
   "metadata": {},
   "source": [
    "\n",
    "\n"
   ]
  },
  {
   "cell_type": "code",
   "execution_count": null,
   "id": "e002f30e",
   "metadata": {},
   "outputs": [],
   "source": []
  },
  {
   "cell_type": "code",
   "execution_count": null,
   "id": "8d1d472c",
   "metadata": {},
   "outputs": [],
   "source": []
  },
  {
   "cell_type": "code",
   "execution_count": null,
   "id": "c40ebbc4",
   "metadata": {},
   "outputs": [],
   "source": []
  }
 ],
 "metadata": {
  "kernelspec": {
   "display_name": "Python 3",
   "language": "python",
   "name": "python3"
  },
  "language_info": {
   "codemirror_mode": {
    "name": "ipython",
    "version": 3
   },
   "file_extension": ".py",
   "mimetype": "text/x-python",
   "name": "python",
   "nbconvert_exporter": "python",
   "pygments_lexer": "ipython3",
   "version": "3.8.8"
  }
 },
 "nbformat": 4,
 "nbformat_minor": 5
}
